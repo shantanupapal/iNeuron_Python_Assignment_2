{
 "cells": [
  {
   "cell_type": "markdown",
   "metadata": {},
   "source": [
    "# Task 1:"
   ]
  },
  {
   "cell_type": "markdown",
   "metadata": {},
   "source": [
    "1.1\n",
    "Write a Python Program to implement your own myreduce() function which works exactly like\n",
    "Python's built-in function reduce()"
   ]
  },
  {
   "cell_type": "code",
   "execution_count": 13,
   "metadata": {},
   "outputs": [
    {
     "data": {
      "text/plain": [
       "10"
      ]
     },
     "execution_count": 13,
     "metadata": {},
     "output_type": "execute_result"
    }
   ],
   "source": [
    "def myreduce(func_name, seq):\n",
    "    item = seq[0]\n",
    "    for i in seq[1:]:\n",
    "        item = func_name(item, i)\n",
    "    return item\n",
    "\n",
    "def summation(x,y):\n",
    "    return x+y\n",
    "\n",
    "myreduce(summation, [1,2,3,4])"
   ]
  },
  {
   "cell_type": "markdown",
   "metadata": {},
   "source": [
    "1.2\n",
    "Write a Python program to implement your own myfilter() function which works exactly like\n",
    "Python's built-in function filter() "
   ]
  },
  {
   "cell_type": "code",
   "execution_count": 15,
   "metadata": {},
   "outputs": [
    {
     "data": {
      "text/plain": [
       "[-1, -2, -23, -4]"
      ]
     },
     "execution_count": 15,
     "metadata": {},
     "output_type": "execute_result"
    }
   ],
   "source": [
    "def myfilter(func_name, seq):\n",
    "    item = []\n",
    "    for i in seq:\n",
    "        if func_name(i):\n",
    "            item.append(i)\n",
    "    return item\n",
    "\n",
    "def isNegative(k):\n",
    "    if k<0:\n",
    "        return True\n",
    "    else:\n",
    "        return False\n",
    "    \n",
    "myfilter(isNegative, [-1,-2,0,3,4,0,56,76,0,-23,-4])"
   ]
  },
  {
   "cell_type": "markdown",
   "metadata": {},
   "source": [
    "2.\n",
    "Implement List comprehensions to produce the following lists.\n",
    "Write List comprehensions to produce the following Lists\n",
    "['A', 'C', 'A', 'D', 'G', 'I', ’L’, ‘ D’]\n",
    "['x', 'xx', 'xxx', 'xxxx', 'y', 'yy', 'yyy', 'yyyy', 'z', 'zz', 'zzz', 'zzzz']\n",
    "['x', 'y', 'z', 'xx', 'yy', 'zz', 'xx', 'yy', 'zz', 'xxxx', 'yyyy', 'zzzz']\n",
    "[[2], [3], [4], [3], [4], [5], [4], [5], [6]]\n",
    "[[2, 3, 4, 5], [3, 4, 5, 6], [4, 5, 6, 7], [5, 6, 7, 8]]\n",
    "[(1, 1), (2, 1), (3, 1), (1, 2), (2, 2), (3, 2), (1, 3), (2, 3), (3, 3)]"
   ]
  },
  {
   "cell_type": "code",
   "execution_count": 16,
   "metadata": {},
   "outputs": [
    {
     "name": "stdout",
     "output_type": "stream",
     "text": [
      "['A', 'C', 'A', 'D', 'G', 'I', 'L', 'D']\n",
      "['x', 'xx', 'xxx', 'xxxx', 'y', 'yy', 'yyy', 'yyyy', 'z', 'zz', 'zzz', 'zzzz']\n",
      "['x', 'y', 'z', 'xx', 'yy', 'zz', 'xxx', 'yyy', 'zzz', 'xxxx', 'yyyy', 'zzzz']\n",
      "[[2], [3], [4], [3], [4], [5], [4], [5], [6]]\n",
      "[[2, 3, 4, 5], [3, 4, 5, 6], [4, 5, 6, 7], [5, 6, 7, 8]]\n",
      "[(1, 1), (2, 1), (3, 1), (1, 2), (2, 2), (3, 2), (1, 3), (2, 3), (3, 3)]\n"
     ]
    }
   ],
   "source": [
    "word = 'ACADGILD'\n",
    "char_list = [char for char in word]\n",
    "print(char_list)\n",
    "\n",
    "list1 = ['x','y','z']\n",
    "result1 = [char*num for char in list1 for num in range(1,5)]\n",
    "print(result1)\n",
    "\n",
    "result2 = [char*num for num in range(1,5) for char in list1]\n",
    "print(result2)\n",
    "\n",
    "list2 = [2,3,4]\n",
    "result3 = [[num+i] for num in list2 for i in range(0,3)]\n",
    "print(result3)\n",
    "\n",
    "list3 = [2,3,4,5]\n",
    "result4 = [[num+i for num in list3] for i in range(0,4)]\n",
    "print(result4)\n",
    "\n",
    "list4 = [1,2,3]\n",
    "result5 = [(a,b) for b in list4 for a in list4]\n",
    "print(result5)"
   ]
  },
  {
   "cell_type": "markdown",
   "metadata": {},
   "source": [
    "3.Implement a function longestWord() that takes a list of words and returns the longest one."
   ]
  },
  {
   "cell_type": "code",
   "execution_count": 17,
   "metadata": {},
   "outputs": [
    {
     "data": {
      "text/plain": [
       "'namaskar'"
      ]
     },
     "execution_count": 17,
     "metadata": {},
     "output_type": "execute_result"
    }
   ],
   "source": [
    "def longestWord(word_list):\n",
    "    longest = list1[0]\n",
    "    for i in word_list:\n",
    "        if len(i) > len(longest):\n",
    "            longest = i\n",
    "    return longest\n",
    "\n",
    "word_list = ['hi', 'hello', 'namaskar', 'hey']\n",
    "longestWord(word_list)\n",
    "        "
   ]
  },
  {
   "cell_type": "markdown",
   "metadata": {},
   "source": [
    "# Task 2:"
   ]
  },
  {
   "cell_type": "markdown",
   "metadata": {},
   "source": [
    "1.1.Write a Python Program(with class concepts) to find the area of the triangle using the below\n",
    "formula.\n",
    "area = (s*(s-a)*(s-b)*(s-c)) ** 0.5\n",
    "Function to take the length of the sides of triangle from user should be defined in the parent\n",
    "class and function to calculate the area should be defined in subclass."
   ]
  },
  {
   "cell_type": "code",
   "execution_count": 12,
   "metadata": {},
   "outputs": [
    {
     "name": "stdout",
     "output_type": "stream",
     "text": [
      "23\n",
      "24\n",
      "25\n",
      "248.54778212649575\n"
     ]
    }
   ],
   "source": [
    "class length:\n",
    "    def __init__(self,a,b,c):\n",
    "        self.a = a\n",
    "        self.b = b\n",
    "        self.c = c\n",
    "    \n",
    "class find_area(length):\n",
    "    def area(self):\n",
    "        s = (self.a+self.b+self.c)/2\n",
    "        ar = (s*(s-self.a)*(s-self.b)*(s-self.c))**0.5\n",
    "        print(ar)\n",
    "    \n",
    "        \n",
    "triangle = find_area(int(input()),int(input()),int(input()))\n",
    "triangle.area()\n",
    "        "
   ]
  },
  {
   "cell_type": "markdown",
   "metadata": {},
   "source": [
    "1.2. Write a function filter_long_words() that takes a list of words and an integer n and returns the list\n",
    "of words that are longer than n."
   ]
  },
  {
   "cell_type": "code",
   "execution_count": 21,
   "metadata": {},
   "outputs": [
    {
     "name": "stdout",
     "output_type": "stream",
     "text": [
      "['hello', 'namaskar']\n"
     ]
    }
   ],
   "source": [
    "def filter_long_words(words,n):\n",
    "    for word in words:\n",
    "        if len(word)<n:\n",
    "            words.remove(word)\n",
    "    print(words)\n",
    "\n",
    "word_list = ['hi', 'hello', 'namaskar', 'hey']\n",
    "filter_long_words(word_list, 4)"
   ]
  },
  {
   "cell_type": "markdown",
   "metadata": {},
   "source": [
    "2.1\n",
    "Write a Python program using function concept that maps list of words into a list of integers\n",
    "representing the lengths of the corresponding words ."
   ]
  },
  {
   "cell_type": "code",
   "execution_count": 22,
   "metadata": {},
   "outputs": [
    {
     "name": "stdout",
     "output_type": "stream",
     "text": [
      "[2, 5, 8, 3]\n"
     ]
    }
   ],
   "source": [
    "word_length = []\n",
    "def lengthOfWords(words):\n",
    "    for word in words:\n",
    "        word_length.append(int(len(word)))\n",
    "    print(word_length)\n",
    "    \n",
    "word_list = ['hi', 'hello', 'namaskar', 'hey']\n",
    "lengthOfWords(word_list)"
   ]
  },
  {
   "cell_type": "markdown",
   "metadata": {},
   "source": [
    "2.2.Write a Python function which takes a character (i.e. a string of length 1) and returns True if it is\n",
    "a vowel, False otherwise."
   ]
  },
  {
   "cell_type": "code",
   "execution_count": 27,
   "metadata": {},
   "outputs": [
    {
     "name": "stdout",
     "output_type": "stream",
     "text": [
      "False\n",
      "True\n"
     ]
    }
   ],
   "source": [
    "vowels = ['a','A','e','E','i','I','o','O','u','U']\n",
    "def isVowel(char):\n",
    "    if char in vowels:\n",
    "        return True\n",
    "    else:\n",
    "        return False\n",
    "\n",
    "print(isVowel('K'))\n",
    "print(isVowel('a'))"
   ]
  },
  {
   "cell_type": "code",
   "execution_count": null,
   "metadata": {},
   "outputs": [],
   "source": []
  }
 ],
 "metadata": {
  "kernelspec": {
   "display_name": "Python 3",
   "language": "python",
   "name": "python3"
  },
  "language_info": {
   "codemirror_mode": {
    "name": "ipython",
    "version": 3
   },
   "file_extension": ".py",
   "mimetype": "text/x-python",
   "name": "python",
   "nbconvert_exporter": "python",
   "pygments_lexer": "ipython3",
   "version": "3.7.6"
  }
 },
 "nbformat": 4,
 "nbformat_minor": 4
}
